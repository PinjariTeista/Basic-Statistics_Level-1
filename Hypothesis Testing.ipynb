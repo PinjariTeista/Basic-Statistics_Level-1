{
 "cells": [
  {
   "cell_type": "code",
   "execution_count": 1,
   "id": "047f58e7",
   "metadata": {},
   "outputs": [],
   "source": [
    "import numpy as np\n",
    "from scipy.stats import norm"
   ]
  },
  {
   "cell_type": "code",
   "execution_count": 2,
   "id": "6700b220",
   "metadata": {},
   "outputs": [],
   "source": [
    "# Given data\n",
    "\n",
    "sample_mean = 3050\n",
    "theoretical_mean = 1000 + 5 * 600\n",
    "std_dev = 5 * 25\n",
    "n = 25\n",
    "alpha = 0.05"
   ]
  },
  {
   "cell_type": "code",
   "execution_count": 3,
   "id": "b69d93c7",
   "metadata": {},
   "outputs": [],
   "source": [
    "# Calculate the test statistic (t)\n",
    "\n",
    "t_statistic = (sample_mean - theoretical_mean) / (std_dev / np.sqrt(n))"
   ]
  },
  {
   "cell_type": "code",
   "execution_count": 5,
   "id": "5749fabb",
   "metadata": {},
   "outputs": [],
   "source": [
    "# Determine the critical value from the standard normal distribution\n",
    "\n",
    "critical_value = norm.ppf(1 - alpha)"
   ]
  },
  {
   "cell_type": "code",
   "execution_count": 6,
   "id": "c4cc6b48",
   "metadata": {},
   "outputs": [],
   "source": [
    "# Make a decision\n",
    "\n",
    "if t_statistic > critical_value:\n",
    "    conclusion = \"Reject the null hypothesis\"\n",
    "else:\n",
    "    conclusion = \"Fail to reject the null hypothesis\""
   ]
  },
  {
   "cell_type": "code",
   "execution_count": 7,
   "id": "f03bd6a5",
   "metadata": {},
   "outputs": [
    {
     "name": "stdout",
     "output_type": "stream",
     "text": [
      "Test Statistic (t): -38.0\n",
      "Critical Value: 1.6448536269514722\n",
      "Decision: Fail to reject the null hypothesis\n",
      "Conclusion: Based on the decision, there is no strong evidence to support the restaurant owners' claim.\n"
     ]
    }
   ],
   "source": [
    "# Conclusion\n",
    "\n",
    "if conclusion == \"Reject the null hypothesis\":\n",
    "    evidence = \"strong evidence\"\n",
    "else:\n",
    "    evidence = \"no strong evidence\"\n",
    "\n",
    "print(\"Test Statistic (t):\", t_statistic)\n",
    "print(\"Critical Value:\", critical_value)\n",
    "print(\"Decision:\", conclusion)\n",
    "print(\"Conclusion: Based on the decision, there is\", evidence, \"to support the restaurant owners' claim.\")"
   ]
  },
  {
   "cell_type": "code",
   "execution_count": 8,
   "id": "d396e448",
   "metadata": {},
   "outputs": [],
   "source": [
    "import numpy as np\n",
    "from scipy.stats import chi2"
   ]
  },
  {
   "cell_type": "code",
   "execution_count": 9,
   "id": "28ab174e",
   "metadata": {},
   "outputs": [],
   "source": [
    "# Given data\n",
    "\n",
    "observed = np.array([[50, 70],\n",
    "                     [80, 100],\n",
    "                     [60, 90],\n",
    "                     [30, 50],\n",
    "                     [20, 50]])"
   ]
  },
  {
   "cell_type": "code",
   "execution_count": 10,
   "id": "4f054638",
   "metadata": {},
   "outputs": [],
   "source": [
    "# Calculate expected frequencies\n",
    "\n",
    "row_totals = observed.sum(axis=1)\n",
    "col_totals = observed.sum(axis=0)\n",
    "total = observed.sum()\n",
    "expected = np.outer(row_totals, col_totals) / total"
   ]
  },
  {
   "cell_type": "code",
   "execution_count": 11,
   "id": "bfff220e",
   "metadata": {},
   "outputs": [],
   "source": [
    "# Calculate chi-square statistic\n",
    "\n",
    "chi2_statistic = np.sum((observed - expected)**2 / expected)"
   ]
  },
  {
   "cell_type": "code",
   "execution_count": 12,
   "id": "eeb9853f",
   "metadata": {},
   "outputs": [],
   "source": [
    "# Degrees of freedom\n",
    "\n",
    "degrees_of_freedom = (observed.shape[0] - 1) * (observed.shape[1] - 1)"
   ]
  },
  {
   "cell_type": "code",
   "execution_count": 13,
   "id": "1aefa24f",
   "metadata": {},
   "outputs": [],
   "source": [
    "# Determine critical value\n",
    "\n",
    "alpha = 0.05\n",
    "critical_value = chi2.ppf(1 - alpha, degrees_of_freedom)"
   ]
  },
  {
   "cell_type": "code",
   "execution_count": 14,
   "id": "c51fb8b6",
   "metadata": {},
   "outputs": [
    {
     "name": "stdout",
     "output_type": "stream",
     "text": [
      "Chi-Square Statistic: 5.638227513227513\n",
      "Critical Value: 9.487729036781154\n",
      "Conclusion: Fail to reject the null hypothesis\n"
     ]
    }
   ],
   "source": [
    "# Make a decision\n",
    "\n",
    "if chi2_statistic > critical_value:\n",
    "    conclusion = \"Reject the null hypothesis\"\n",
    "else:\n",
    "    conclusion = \"Fail to reject the null hypothesis\"\n",
    "\n",
    "print(\"Chi-Square Statistic:\", chi2_statistic)\n",
    "print(\"Critical Value:\", critical_value)\n",
    "print(\"Conclusion:\", conclusion)"
   ]
  },
  {
   "cell_type": "code",
   "execution_count": null,
   "id": "a8a23547",
   "metadata": {},
   "outputs": [],
   "source": []
  }
 ],
 "metadata": {
  "kernelspec": {
   "display_name": "Python 3 (ipykernel)",
   "language": "python",
   "name": "python3"
  },
  "language_info": {
   "codemirror_mode": {
    "name": "ipython",
    "version": 3
   },
   "file_extension": ".py",
   "mimetype": "text/x-python",
   "name": "python",
   "nbconvert_exporter": "python",
   "pygments_lexer": "ipython3",
   "version": "3.11.7"
  }
 },
 "nbformat": 4,
 "nbformat_minor": 5
}
